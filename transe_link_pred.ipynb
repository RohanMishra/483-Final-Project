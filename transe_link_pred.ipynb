{
 "cells": [
  {
   "cell_type": "markdown",
   "id": "c4c15ef9-b256-4916-bf3a-e0f456b62715",
   "metadata": {},
   "source": [
    "# Imports and Dataset Downloads"
   ]
  },
  {
   "cell_type": "code",
   "execution_count": 107,
   "id": "b577dd89-6a3a-413c-9bf9-2ff36cd610bd",
   "metadata": {},
   "outputs": [
    {
     "name": "stdout",
     "output_type": "stream",
     "text": [
      "Using torch 2.1.1\n"
     ]
    }
   ],
   "source": [
    "import os\n",
    "import torch\n",
    "print(\"Using torch\", torch.__version__)"
   ]
  },
  {
   "cell_type": "code",
   "execution_count": 2,
   "id": "0b78256d-792a-4ea3-8245-8635a61d6e4b",
   "metadata": {},
   "outputs": [],
   "source": [
    "from torch_geometric.datasets import NELL, WikiCS, Wikidata5M"
   ]
  },
  {
   "cell_type": "code",
   "execution_count": 3,
   "id": "46dad739-5c7f-40d3-a3a2-62c447f10301",
   "metadata": {},
   "outputs": [],
   "source": [
    "import torch_geometric"
   ]
  },
  {
   "cell_type": "code",
   "execution_count": 4,
   "id": "de4ccf07-8308-48bb-a451-faefae617e14",
   "metadata": {},
   "outputs": [],
   "source": [
    "from torch_geometric import nn\n",
    "import torch_geometric.transforms as T"
   ]
  },
  {
   "cell_type": "code",
   "execution_count": 349,
   "id": "3de86bf6-5fe5-43ef-92e3-fb81d9b988b3",
   "metadata": {},
   "outputs": [],
   "source": [
    "transform = T.Compose([\n",
    "    T.RandomLinkSplit(num_val=0.05,  # ratio of edges including in the validation set\n",
    "                      num_test=0.2,  # ratio of edges including in the test set\n",
    "                      is_undirected=True,\n",
    "                      add_negative_train_samples=False),\n",
    "])"
   ]
  },
  {
   "cell_type": "code",
   "execution_count": 351,
   "id": "439994a9-7cf9-4b67-818a-dcbd5685ad1f",
   "metadata": {
    "scrolled": true
   },
   "outputs": [],
   "source": [
    "wiki5m_dataset = Wikidata5M(\"/Users/rohan/Documents/483FinalProject/tmp/wiki5m\", transform=transform)"
   ]
  },
  {
   "cell_type": "code",
   "execution_count": 352,
   "id": "8989865d-9762-46b1-9ec6-368f2203ca89",
   "metadata": {},
   "outputs": [],
   "source": [
    "wiki5m_train, wiki5m_val, wiki5m_test = wiki5m_dataset[0]"
   ]
  },
  {
   "cell_type": "code",
   "execution_count": 353,
   "id": "83f0a25f-5902-44de-94a0-776f630a8b08",
   "metadata": {},
   "outputs": [
    {
     "name": "stdout",
     "output_type": "stream",
     "text": [
      "Wiki5m:\n",
      "\tNumber of the nodes in training, validation and test data are 4815483 4815483 4815483\n",
      "\tNumber of the edges in training, validation and test data are 15686280 15686280 16732032\n",
      "\tNumber of the edge_label_index in training, validation and test data are 7843140 1045752 4183008\n",
      "WikiCS:\n",
      "\tNumber of the nodes in training, validation and test data are 11701 11701 11701\n",
      "\tNumber of the edges in training, validation and test data are 324186 324186 345798\n",
      "\tNumber of the edge_label_index in training, validation and test data are 162093 21612 86448\n"
     ]
    }
   ],
   "source": [
    "print(\"Wiki5m:\")\n",
    "print(\"\\tNumber of the nodes in training, validation and test data are\", wiki5m_train.num_nodes, wiki5m_val.num_nodes, wiki5m_test.num_nodes)\n",
    "print(\"\\tNumber of the edges in training, validation and test data are\", wiki5m_train.num_edges, wiki5m_val.num_edges, wiki5m_test.num_edges)\n",
    "print(\"\\tNumber of the edge_label_index in training, validation and test data are\", wiki5m_train.edge_label_index.shape[1],\n",
    "                                                                                  wiki5m_val.edge_label_index.shape[1],\n",
    "                                                                                  wiki5m_test.edge_label_index.shape[1])"
   ]
  },
  {
   "cell_type": "markdown",
   "id": "9ab160a6-212b-4e4d-bb4d-52ef44bd572a",
   "metadata": {},
   "source": [
    "# Model Creation and Training"
   ]
  },
  {
   "cell_type": "code",
   "execution_count": 363,
   "id": "f442a493-90b4-4ccc-bb05-540211611ba9",
   "metadata": {},
   "outputs": [],
   "source": [
    "import torch\n",
    "import torch.nn as nn\n",
    "\n",
    "class TransE(nn.Module):\n",
    "    def __init__(self, num_entities, num_relations, embedding_dim):\n",
    "        super(TransE, self).__init__()\n",
    "        self.entity_embeddings = nn.Embedding(num_entities, embedding_dim)\n",
    "        self.relation_embeddings = nn.Embedding(num_relations, embedding_dim)\n",
    "\n",
    "        nn.init.xavier_uniform_(self.entity_embeddings.weight.data)\n",
    "        nn.init.xavier_uniform_(self.relation_embeddings.weight.data)\n",
    "\n",
    "    def forward(self, edge_index, edge_type):\n",
    "        head_emb = self.entity_embeddings(edge_index[0])\n",
    "        tail_emb = self.entity_embeddings(edge_index[1])\n",
    "        relation_emb = self.relation_embeddings(edge_type\n",
    "        score = torch.norm(head_emb + relation_emb - tail_emb, p=1, dim=1)\n",
    "        return score"
   ]
  },
  {
   "cell_type": "code",
   "execution_count": 133,
   "id": "f6005086-264d-45c3-9171-be3e351b7330",
   "metadata": {},
   "outputs": [],
   "source": [
    "from torch_geometric.utils import structured_negative_sampling"
   ]
  },
  {
   "cell_type": "code",
   "execution_count": 378,
   "id": "5fef716a-88d6-4132-a039-7970cb36deb5",
   "metadata": {},
   "outputs": [],
   "source": [
    "def train(model, data, optimizer, criterion):\n",
    "    model.train()\n",
    "    total_loss = 0\n",
    "    # for data in data_loader:\n",
    "    batch_mask = torch.rand(len(data.edge_index[0]))<0.2\n",
    "    edge_index = torch.stack((data.edge_index[0][batch_mask], data.edge_index[1][batch_mask]))\n",
    "    edge_type = data.edge_type[batch_mask]\n",
    "        \n",
    "    optimizer.zero_grad()\n",
    "    temp = structured_negative_sampling(\n",
    "          edge_index=edge_index,  # positive edges in the graph\n",
    "          num_nodes=data.x.shape[0],  # number of nodes\n",
    "        )# 4\n",
    "    negative_edges = torch.stack((temp[0], temp[2]))\n",
    "    \n",
    "    # pos_labels = torch.ones(data.train_edge_index[0].size(0), dtype=torch.float)\n",
    "    # labels = torch.cat((pos_labels, pos_labels-1))\n",
    "    \n",
    "    # edge_index, edge_type = torch.cat((data.train_edge_index, negative_edges), 1), torch.cat((data.train_edge_type, data.train_edge_type))\n",
    "    # predictions = model(edge_index, edge_type)\n",
    "    pos_scores = model(edge_index, edge_type)\n",
    "    neg_scores = model(negative_edges, edge_type)\n",
    "    \n",
    "    loss = criterion(pos_scores, neg_scores, torch.ones_like(pos_scores))\n",
    "    loss.backward()\n",
    "    optimizer.step()\n",
    "    total_loss += loss.item()\n",
    "\n",
    "    return total_loss\n",
    "\n",
    "@torch.no_grad()\n",
    "def mrr_score(model, data):\n",
    "    model.eval()\n",
    "    total_mrr = 0\n",
    "\n",
    "    batch_mask = torch.rand(len(data.edge_index[0]))<0.02\n",
    "    edge_index = torch.stack((data.edge_index[0][batch_mask], data.edge_index[1][batch_mask]))\n",
    "    edge_type = data.edge_type[batch_mask]\n",
    "    count = len(edge_type)\n",
    "\n",
    "    # edge_index, edge_type = data.edge_index, data.edge_type\n",
    "    scores = []\n",
    "    num_relations = torch.max(data.edge_type)\n",
    "    for i in range(num_relations):\n",
    "        test_edge_type = (torch.zeros(len(edge_type))+i).type(torch.int)\n",
    "        scores.append(model(edge_index, test_edge_type))\n",
    "    scores = torch.stack(scores)\n",
    "    _, indices = torch.sort(scores, descending=True, dim=0)\n",
    "    rank_sums = torch.sum(edge_type == indices, axis=1) / torch.arange(1, num_relations+1, dtype=torch.float)\n",
    "    total_mrr = torch.sum(rank_sums)\n",
    "    return total_mrr / count"
   ]
  },
  {
   "cell_type": "code",
   "execution_count": 379,
   "id": "2ba6e8b2-4e98-4d3d-98fd-533094610bec",
   "metadata": {},
   "outputs": [],
   "source": [
    "num_entities = wiki5m_train.x.shape[0]  # Total number of unique entities\n",
    "num_relations = torch.max(wiki5m_train.edge_type)+1  # Total number of unique relations\n",
    "embedding_dim = 50  # Size of embedding vectors\n",
    "\n",
    "model = TransE(num_entities, num_relations, embedding_dim)\n",
    "optimizer = torch.optim.Adam(model.parameters(), lr=0.001)\n",
    "criterion = nn.MarginRankingLoss(margin=1.0)"
   ]
  },
  {
   "cell_type": "code",
   "execution_count": 382,
   "id": "01ac5c48-dcb6-4043-8541-cd8279d4b1af",
   "metadata": {},
   "outputs": [
    {
     "name": "stdout",
     "output_type": "stream",
     "text": [
      "Epoch 1/200, Loss: 0.911604642868042, Val: 0.029715947806835175\n",
      "Epoch 2/200, Loss: 0.8930143117904663, Val: 0.03437596186995506\n",
      "Epoch 3/200, Loss: 0.8750548958778381, Val: 0.041410692036151886\n",
      "Epoch 4/200, Loss: 0.8575268387794495, Val: 0.05260855332016945\n",
      "Epoch 5/200, Loss: 0.8384714126586914, Val: 0.0711439847946167\n",
      "Epoch 6/200, Loss: 0.8200156092643738, Val: 0.09395091980695724\n",
      "Epoch 7/200, Loss: 0.8005425333976746, Val: 0.11972364038228989\n",
      "Epoch 8/200, Loss: 0.7820600271224976, Val: 0.14334696531295776\n",
      "Epoch 9/200, Loss: 0.7634016275405884, Val: 0.169088676571846\n",
      "Epoch 10/200, Loss: 0.745299220085144, Val: 0.21487180888652802\n",
      "Epoch 11/200, Loss: 0.7263205051422119, Val: 0.2506497800350189\n",
      "Epoch 12/200, Loss: 0.7060300707817078, Val: 0.27533307671546936\n",
      "Epoch 13/200, Loss: 0.6870982050895691, Val: 0.2916596829891205\n",
      "Epoch 14/200, Loss: 0.6684723496437073, Val: 0.3023907244205475\n",
      "Epoch 15/200, Loss: 0.6510396003723145, Val: 0.31110888719558716\n",
      "Epoch 16/200, Loss: 0.6336842775344849, Val: 0.3163413107395172\n",
      "Epoch 17/200, Loss: 0.6225712895393372, Val: 0.32352614402770996\n",
      "Epoch 18/200, Loss: 0.614024817943573, Val: 0.3273630142211914\n",
      "Epoch 19/200, Loss: 0.6051870584487915, Val: 0.33272331953048706\n",
      "Epoch 20/200, Loss: 0.5991398096084595, Val: 0.33679184317588806\n",
      "Epoch 21/200, Loss: 0.5924085378646851, Val: 0.33830612897872925\n",
      "Epoch 22/200, Loss: 0.5848031044006348, Val: 0.3423633575439453\n",
      "Epoch 23/200, Loss: 0.5793226957321167, Val: 0.3453423082828522\n",
      "Epoch 24/200, Loss: 0.572456419467926, Val: 0.3493877649307251\n",
      "Epoch 25/200, Loss: 0.5681909918785095, Val: 0.35344311594963074\n",
      "Epoch 26/200, Loss: 0.5622357726097107, Val: 0.3566414713859558\n",
      "Epoch 27/200, Loss: 0.5569425821304321, Val: 0.3604349195957184\n",
      "Epoch 28/200, Loss: 0.5516223311424255, Val: 0.36282816529273987\n",
      "Epoch 29/200, Loss: 0.5485337376594543, Val: 0.36363184452056885\n",
      "Epoch 30/200, Loss: 0.5426764488220215, Val: 0.3650939166545868\n",
      "Epoch 31/200, Loss: 0.5393600463867188, Val: 0.3664197325706482\n",
      "Epoch 32/200, Loss: 0.5364106893539429, Val: 0.3695048391819\n",
      "Epoch 33/200, Loss: 0.5319462418556213, Val: 0.3699246942996979\n",
      "Epoch 34/200, Loss: 0.5281121134757996, Val: 0.3710724413394928\n",
      "Epoch 35/200, Loss: 0.524271547794342, Val: 0.3719436526298523\n",
      "Epoch 36/200, Loss: 0.5199964642524719, Val: 0.371574729681015\n",
      "Epoch 37/200, Loss: 0.5162298679351807, Val: 0.373169481754303\n",
      "Epoch 38/200, Loss: 0.5139906406402588, Val: 0.37364527583122253\n",
      "Epoch 39/200, Loss: 0.5094868540763855, Val: 0.37295886874198914\n",
      "Epoch 40/200, Loss: 0.5061873197555542, Val: 0.3743481934070587\n",
      "Epoch 41/200, Loss: 0.5022609829902649, Val: 0.3760937750339508\n",
      "Epoch 42/200, Loss: 0.49962684512138367, Val: 0.3765006363391876\n",
      "Epoch 43/200, Loss: 0.49806302785873413, Val: 0.3754081726074219\n",
      "Epoch 44/200, Loss: 0.49181273579597473, Val: 0.3757246136665344\n",
      "Epoch 45/200, Loss: 0.4901474416255951, Val: 0.37717992067337036\n",
      "Epoch 46/200, Loss: 0.4873795807361603, Val: 0.3755057454109192\n",
      "Epoch 47/200, Loss: 0.4839732050895691, Val: 0.37596502900123596\n",
      "Epoch 48/200, Loss: 0.48109444975852966, Val: 0.373948335647583\n",
      "Epoch 49/200, Loss: 0.47814682126045227, Val: 0.37660738825798035\n",
      "Epoch 50/200, Loss: 0.475033700466156, Val: 0.3752983510494232\n",
      "Epoch 51/200, Loss: 0.47282496094703674, Val: 0.37573808431625366\n",
      "Epoch 52/200, Loss: 0.4695388376712799, Val: 0.37550386786460876\n",
      "Epoch 53/200, Loss: 0.46582749485969543, Val: 0.3751094341278076\n",
      "Epoch 54/200, Loss: 0.4637731611728668, Val: 0.3732987940311432\n",
      "Epoch 55/200, Loss: 0.4603160619735718, Val: 0.3739824891090393\n",
      "Epoch 56/200, Loss: 0.45667389035224915, Val: 0.37296777963638306\n",
      "Epoch 57/200, Loss: 0.4556369185447693, Val: 0.37066909670829773\n",
      "Epoch 58/200, Loss: 0.4532662034034729, Val: 0.37081483006477356\n",
      "Epoch 59/200, Loss: 0.4514521062374115, Val: 0.3711853325366974\n",
      "Epoch 60/200, Loss: 0.4469475746154785, Val: 0.3688133955001831\n",
      "Epoch 61/200, Loss: 0.44489020109176636, Val: 0.36857709288597107\n",
      "Epoch 62/200, Loss: 0.44222956895828247, Val: 0.3693205714225769\n",
      "Epoch 63/200, Loss: 0.4388243854045868, Val: 0.368219792842865\n",
      "Epoch 64/200, Loss: 0.43596166372299194, Val: 0.3665021061897278\n",
      "Epoch 65/200, Loss: 0.43301478028297424, Val: 0.3659769296646118\n",
      "Epoch 66/200, Loss: 0.4314507842063904, Val: 0.36485108733177185\n",
      "Epoch 67/200, Loss: 0.427924245595932, Val: 0.3649537265300751\n",
      "Epoch 68/200, Loss: 0.42583149671554565, Val: 0.3622646629810333\n",
      "Epoch 69/200, Loss: 0.42322760820388794, Val: 0.3630825877189636\n",
      "Epoch 70/200, Loss: 0.4205266535282135, Val: 0.3610595762729645\n",
      "Epoch 71/200, Loss: 0.4168233275413513, Val: 0.3594495356082916\n",
      "Epoch 72/200, Loss: 0.4136689305305481, Val: 0.3596094250679016\n",
      "Epoch 73/200, Loss: 0.41193342208862305, Val: 0.35849112272262573\n",
      "Epoch 74/200, Loss: 0.4100513458251953, Val: 0.35958775877952576\n",
      "Epoch 75/200, Loss: 0.4055212140083313, Val: 0.35643672943115234\n",
      "Epoch 76/200, Loss: 0.40510082244873047, Val: 0.35556942224502563\n",
      "Epoch 77/200, Loss: 0.4024171531200409, Val: 0.354276567697525\n",
      "Epoch 78/200, Loss: 0.39949965476989746, Val: 0.3533879220485687\n",
      "Epoch 79/200, Loss: 0.39741623401641846, Val: 0.35394495725631714\n",
      "Epoch 80/200, Loss: 0.39548543095588684, Val: 0.35111701488494873\n",
      "Epoch 81/200, Loss: 0.39307165145874023, Val: 0.3494088649749756\n",
      "Epoch 82/200, Loss: 0.39040234684944153, Val: 0.3476201295852661\n",
      "Epoch 83/200, Loss: 0.38731804490089417, Val: 0.34627458453178406\n",
      "Epoch 84/200, Loss: 0.3847484290599823, Val: 0.34527039527893066\n",
      "Epoch 85/200, Loss: 0.3808261752128601, Val: 0.3432173430919647\n",
      "Epoch 86/200, Loss: 0.38003912568092346, Val: 0.3416946530342102\n",
      "Epoch 87/200, Loss: 0.37870916724205017, Val: 0.3405097723007202\n",
      "Epoch 88/200, Loss: 0.37522998452186584, Val: 0.3404833972454071\n",
      "Epoch 89/200, Loss: 0.3726460039615631, Val: 0.3379400968551636\n",
      "Epoch 90/200, Loss: 0.3691563606262207, Val: 0.33746591210365295\n",
      "Epoch 91/200, Loss: 0.36712658405303955, Val: 0.33514833450317383\n",
      "Epoch 92/200, Loss: 0.36610013246536255, Val: 0.33534684777259827\n",
      "Epoch 93/200, Loss: 0.36307328939437866, Val: 0.33316150307655334\n",
      "Epoch 94/200, Loss: 0.3603453040122986, Val: 0.3304855525493622\n",
      "Epoch 95/200, Loss: 0.35896891355514526, Val: 0.3316594660282135\n",
      "Epoch 96/200, Loss: 0.3566978871822357, Val: 0.32843253016471863\n",
      "Epoch 97/200, Loss: 0.35412898659706116, Val: 0.3274649679660797\n",
      "Epoch 98/200, Loss: 0.35221046209335327, Val: 0.3255884647369385\n",
      "Epoch 99/200, Loss: 0.35048437118530273, Val: 0.32363468408584595\n",
      "Epoch 100/200, Loss: 0.34728100895881653, Val: 0.32261160016059875\n",
      "Epoch 101/200, Loss: 0.3445378243923187, Val: 0.32034510374069214\n",
      "Epoch 102/200, Loss: 0.3442472815513611, Val: 0.3198815882205963\n",
      "Epoch 103/200, Loss: 0.3413781523704529, Val: 0.31707963347435\n",
      "Epoch 104/200, Loss: 0.33853384852409363, Val: 0.31561046838760376\n",
      "Epoch 105/200, Loss: 0.3364771604537964, Val: 0.3139423429965973\n",
      "Epoch 106/200, Loss: 0.3351200222969055, Val: 0.314079612493515\n",
      "Epoch 107/200, Loss: 0.33250007033348083, Val: 0.31212204694747925\n",
      "Epoch 108/200, Loss: 0.33001312613487244, Val: 0.30851274728775024\n",
      "Epoch 109/200, Loss: 0.32977500557899475, Val: 0.3104970455169678\n",
      "Epoch 110/200, Loss: 0.32680192589759827, Val: 0.30817711353302\n",
      "Epoch 111/200, Loss: 0.3230229914188385, Val: 0.30583444237709045\n",
      "Epoch 112/200, Loss: 0.3224344551563263, Val: 0.3055777847766876\n",
      "Epoch 113/200, Loss: 0.3205942213535309, Val: 0.30385440587997437\n",
      "Epoch 114/200, Loss: 0.3187621235847473, Val: 0.3025340437889099\n",
      "Epoch 115/200, Loss: 0.3178284764289856, Val: 0.30297860503196716\n",
      "Epoch 116/200, Loss: 0.3138388991355896, Val: 0.30121666193008423\n",
      "Epoch 117/200, Loss: 0.3123091161251068, Val: 0.30010780692100525\n",
      "Epoch 118/200, Loss: 0.3106747567653656, Val: 0.29898664355278015\n",
      "Epoch 119/200, Loss: 0.30871063470840454, Val: 0.29802781343460083\n",
      "Epoch 120/200, Loss: 0.30539435148239136, Val: 0.2971147298812866\n",
      "Epoch 121/200, Loss: 0.30263248085975647, Val: 0.2949109673500061\n",
      "Epoch 122/200, Loss: 0.30129751563072205, Val: 0.2926887571811676\n",
      "Epoch 123/200, Loss: 0.30102428793907166, Val: 0.29286205768585205\n",
      "Epoch 124/200, Loss: 0.2983964681625366, Val: 0.2911132574081421\n",
      "Epoch 125/200, Loss: 0.2964490056037903, Val: 0.2904634177684784\n",
      "Epoch 126/200, Loss: 0.29390934109687805, Val: 0.2884346842765808\n",
      "Epoch 127/200, Loss: 0.29264912009239197, Val: 0.28726860880851746\n",
      "Epoch 128/200, Loss: 0.2914641797542572, Val: 0.2858063876628876\n",
      "Epoch 129/200, Loss: 0.2884535491466522, Val: 0.2863966226577759\n",
      "Epoch 130/200, Loss: 0.28606247901916504, Val: 0.2831485867500305\n",
      "Epoch 131/200, Loss: 0.28497108817100525, Val: 0.28234684467315674\n",
      "Epoch 132/200, Loss: 0.2829507291316986, Val: 0.28188857436180115\n",
      "Epoch 133/200, Loss: 0.2804413437843323, Val: 0.2814885675907135\n",
      "Epoch 134/200, Loss: 0.27937012910842896, Val: 0.279721736907959\n",
      "Epoch 135/200, Loss: 0.27762889862060547, Val: 0.2779291272163391\n",
      "Epoch 136/200, Loss: 0.27558618783950806, Val: 0.27802836894989014\n",
      "Epoch 137/200, Loss: 0.2724752724170685, Val: 0.277628093957901\n",
      "Epoch 138/200, Loss: 0.27223455905914307, Val: 0.27689260244369507\n",
      "Epoch 139/200, Loss: 0.2708316445350647, Val: 0.2784005105495453\n",
      "Epoch 140/200, Loss: 0.2673298716545105, Val: 0.27538859844207764\n",
      "Epoch 141/200, Loss: 0.2668161392211914, Val: 0.27442729473114014\n",
      "Epoch 142/200, Loss: 0.2657146155834198, Val: 0.2746705412864685\n",
      "Epoch 143/200, Loss: 0.2635641098022461, Val: 0.2750837504863739\n",
      "Epoch 144/200, Loss: 0.2622219920158386, Val: 0.2737618386745453\n",
      "Epoch 145/200, Loss: 0.2590115964412689, Val: 0.27336791157722473\n",
      "Epoch 146/200, Loss: 0.2581444978713989, Val: 0.2732447683811188\n",
      "Epoch 147/200, Loss: 0.2558366656303406, Val: 0.27186015248298645\n",
      "Epoch 148/200, Loss: 0.25380557775497437, Val: 0.2718439996242523\n",
      "Epoch 149/200, Loss: 0.25357821583747864, Val: 0.2709657847881317\n",
      "Epoch 150/200, Loss: 0.2510038912296295, Val: 0.2699236273765564\n",
      "Epoch 151/200, Loss: 0.25006064772605896, Val: 0.2697412073612213\n",
      "Epoch 152/200, Loss: 0.2486303746700287, Val: 0.26951301097869873\n",
      "Epoch 153/200, Loss: 0.24731405079364777, Val: 0.26877257227897644\n",
      "Epoch 154/200, Loss: 0.24414141476154327, Val: 0.2679590582847595\n",
      "Epoch 155/200, Loss: 0.24297495186328888, Val: 0.2679799199104309\n",
      "Epoch 156/200, Loss: 0.24165239930152893, Val: 0.26662299036979675\n",
      "Epoch 157/200, Loss: 0.24008679389953613, Val: 0.26696109771728516\n",
      "Epoch 158/200, Loss: 0.23959170281887054, Val: 0.2658480703830719\n",
      "Epoch 159/200, Loss: 0.23852074146270752, Val: 0.2660701274871826\n",
      "Epoch 160/200, Loss: 0.2348194569349289, Val: 0.26586824655532837\n",
      "Epoch 161/200, Loss: 0.23527617752552032, Val: 0.2657112181186676\n",
      "Epoch 162/200, Loss: 0.2329981029033661, Val: 0.2651824653148651\n",
      "Epoch 163/200, Loss: 0.23161298036575317, Val: 0.26485675573349\n",
      "Epoch 164/200, Loss: 0.22960129380226135, Val: 0.263536274433136\n",
      "Epoch 165/200, Loss: 0.22909535467624664, Val: 0.2652880549430847\n",
      "Epoch 166/200, Loss: 0.2265072613954544, Val: 0.26314330101013184\n",
      "Epoch 167/200, Loss: 0.2244347184896469, Val: 0.2631555199623108\n",
      "Epoch 168/200, Loss: 0.2239571064710617, Val: 0.26321718096733093\n",
      "Epoch 169/200, Loss: 0.22253717482089996, Val: 0.26188066601753235\n",
      "Epoch 170/200, Loss: 0.2215118259191513, Val: 0.2616575360298157\n",
      "Epoch 171/200, Loss: 0.21909549832344055, Val: 0.26213401556015015\n",
      "Epoch 172/200, Loss: 0.21916180849075317, Val: 0.2627326548099518\n",
      "Epoch 173/200, Loss: 0.2178315967321396, Val: 0.261264443397522\n",
      "Epoch 174/200, Loss: 0.21636909246444702, Val: 0.262128084897995\n",
      "Epoch 175/200, Loss: 0.21408848464488983, Val: 0.2604244649410248\n",
      "Epoch 176/200, Loss: 0.21366994082927704, Val: 0.26059427857398987\n",
      "Epoch 177/200, Loss: 0.2128387838602066, Val: 0.26060616970062256\n",
      "Epoch 178/200, Loss: 0.21132859587669373, Val: 0.2595399022102356\n",
      "Epoch 179/200, Loss: 0.21002735197544098, Val: 0.26079005002975464\n",
      "Epoch 180/200, Loss: 0.20833100378513336, Val: 0.26099997758865356\n",
      "Epoch 181/200, Loss: 0.20744289457798004, Val: 0.2593727707862854\n",
      "Epoch 182/200, Loss: 0.20602627098560333, Val: 0.26046639680862427\n",
      "Epoch 183/200, Loss: 0.20475557446479797, Val: 0.25881659984588623\n",
      "Epoch 184/200, Loss: 0.2037903219461441, Val: 0.2596472501754761\n",
      "Epoch 185/200, Loss: 0.20354866981506348, Val: 0.2589765787124634\n",
      "Epoch 186/200, Loss: 0.20191968977451324, Val: 0.2578151524066925\n",
      "Epoch 187/200, Loss: 0.20000456273555756, Val: 0.25752246379852295\n",
      "Epoch 188/200, Loss: 0.19900281727313995, Val: 0.2582077383995056\n",
      "Epoch 189/200, Loss: 0.19718508422374725, Val: 0.2564820647239685\n",
      "Epoch 190/200, Loss: 0.19552569091320038, Val: 0.25580018758773804\n",
      "Epoch 191/200, Loss: 0.19550330936908722, Val: 0.2563464939594269\n",
      "Epoch 192/200, Loss: 0.1943565309047699, Val: 0.2570795714855194\n",
      "Epoch 193/200, Loss: 0.19255632162094116, Val: 0.2577637732028961\n",
      "Epoch 194/200, Loss: 0.1914578229188919, Val: 0.25649788975715637\n",
      "Epoch 195/200, Loss: 0.19000403583049774, Val: 0.2554728090763092\n",
      "Epoch 196/200, Loss: 0.19026903808116913, Val: 0.2552655041217804\n",
      "Epoch 197/200, Loss: 0.189689040184021, Val: 0.2544190287590027\n",
      "Epoch 198/200, Loss: 0.18634246289730072, Val: 0.25463587045669556\n",
      "Epoch 199/200, Loss: 0.1859709769487381, Val: 0.255485475063324\n",
      "Epoch 200/200, Loss: 0.18592104315757751, Val: 0.25488191843032837\n"
     ]
    }
   ],
   "source": [
    "num_epochs = 200\n",
    "losses = []\n",
    "mrrs = []\n",
    "for epoch in range(num_epochs):\n",
    "    loss = train(model, wiki5m_train, optimizer, criterion)\n",
    "    losses.append(loss)\n",
    "    valid_mrr = mrr_score(model, wiki5m_test)\n",
    "    mrrs.append(valid_mrr)\n",
    "    print(f'Epoch {epoch+1}/{num_epochs}, Loss: {loss}, Val: {valid_mrr}')"
   ]
  },
  {
   "cell_type": "code",
   "execution_count": 397,
   "id": "bf16e960-ee61-4c0e-92be-796cad00644f",
   "metadata": {},
   "outputs": [],
   "source": [
    "import matplotlib.pyplot as plt\n",
    "def plot_curves(curves):\n",
    "    epochs = range(1, len(curves[\"train\"]) + 1)\n",
    "\n",
    "    plt.figure(figsize=(10, 5))\n",
    "\n",
    "    # Plot training loss\n",
    "    plt.subplot(1, 2, 1)\n",
    "    plt.plot(epochs, curves[\"train\"], label='Training Loss')\n",
    "    plt.title('Training Loss over Epochs')\n",
    "    plt.xlabel('Epochs')\n",
    "    plt.ylabel('Loss')\n",
    "    # plt.xticks(epochs)\n",
    "    plt.legend()\n",
    "\n",
    "    plt.tight_layout()\n",
    "    plt.show()"
   ]
  },
  {
   "cell_type": "code",
   "execution_count": 404,
   "id": "ec8da2fc-81e4-469a-9b65-fd6945c0b146",
   "metadata": {},
   "outputs": [
    {
     "data": {
      "text/plain": [
       "tensor(0.3772)"
      ]
     },
     "execution_count": 404,
     "metadata": {},
     "output_type": "execute_result"
    }
   ],
   "source": [
    "max(mrrs)"
   ]
  },
  {
   "cell_type": "code",
   "execution_count": 398,
   "id": "6c021c28-d57d-4856-a2c7-8953fba98559",
   "metadata": {},
   "outputs": [
    {
     "data": {
      "image/png": "[encoded data removed]",
      "text/plain": [
       "<Figure size 1000x500 with 1 Axes>"
      ]
     },
     "metadata": {},
     "output_type": "display_data"
    }
   ],
   "source": [
    "plot_curves({\"train\" : losses})"
   ]
  },
  {
   "cell_type": "code",
   "execution_count": 401,
   "id": "9ef279e9-2a59-41d8-be37-fe0e601c33b9",
   "metadata": {},
   "outputs": [],
   "source": [
    "import matplotlib.pyplot as plt\n",
    "def plot_curves2(curves):\n",
    "    epochs = range(1, len(curves[\"mrrs\"]) + 1)\n",
    "\n",
    "    plt.figure(figsize=(10, 5))\n",
    "\n",
    "    # Plot training loss\n",
    "    plt.subplot(1, 2, 1)\n",
    "    plt.plot(epochs, curves[\"mrrs\"], label='Valid. MRR')\n",
    "    plt.plot(epochs, curves[\"mrrs_lr\"], label='Valid. MRR (lower lr)')\n",
    "    plt.plot(epochs, curves[\"mrrs_marg\"], label='Valid. MRR (lower margin)')\n",
    "    plt.title('Validation MRR over Epochs')\n",
    "    plt.xlabel('Epochs')\n",
    "    plt.ylabel('MRR')\n",
    "    # plt.xticks(epochs)\n",
    "    plt.legend()\n",
    "\n",
    "    plt.tight_layout()\n",
    "    plt.show()"
   ]
  },
  {
   "cell_type": "code",
   "execution_count": 402,
   "id": "4cd3ab20-eb5f-4b6f-9620-52d0188e7737",
   "metadata": {},
   "outputs": [
    {
     "data": {
      "image/png": "[encoded data removed]",
      "text/plain": [
       "<Figure size 1000x500 with 1 Axes>"
      ]
     },
     "metadata": {},
     "output_type": "display_data"
    }
   ],
   "source": [
    "plot_curves2({\"mrrs\" : mrrs})"
   ]
  },
  {
   "cell_type": "code",
   "execution_count": null,
   "id": "e36d1dde-8091-430b-a730-d95a1ac24372",
   "metadata": {},
   "outputs": [],
   "source": []
  }
 ],
 "metadata": {
  "kernelspec": {
   "display_name": "Python 3 (ipykernel)",
   "language": "python",
   "name": "python3"
  },
  "language_info": {
   "codemirror_mode": {
    "name": "ipython",
    "version": 3
   },
   "file_extension": ".py",
   "mimetype": "text/x-python",
   "name": "python",
   "nbconvert_exporter": "python",
   "pygments_lexer": "ipython3",
   "version": "3.11.5"
  }
 },
 "nbformat": 4,
 "nbformat_minor": 5
}
